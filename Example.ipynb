{
 "cells": [
  {
   "cell_type": "code",
   "execution_count": 8,
   "metadata": {},
   "outputs": [],
   "source": [
    "from pyarrow.parquet import ParquetFile\n",
    "import pandas as pd"
   ]
  },
  {
   "cell_type": "code",
   "execution_count": 9,
   "metadata": {},
   "outputs": [],
   "source": [
    "def read_parquet_data(parquet,cols):\n",
    "    '''\n",
    "    will return cols from parquet file in pandas df\n",
    "    '''\n",
    "    pq = parquet.read(columns = cols)\n",
    "    df = pd.DataFrame()\n",
    "    for c in cols:\n",
    "        df[c] = pq[c]\n",
    "        \n",
    "    return df"
   ]
  },
  {
   "cell_type": "code",
   "execution_count": 18,
   "metadata": {},
   "outputs": [
    {
     "name": "stdout",
     "output_type": "stream",
     "text": [
      "There are 313789 galaxies in GZ.\n"
     ]
    }
   ],
   "source": [
    "# Filepaths\n",
    "gz_filepath = 'data/gz_decals_auto_posteriors.parquet'\n",
    "\n",
    "#Open GZ data\n",
    "parquet = ParquetFile(gz_filepath)\n",
    "cols = ['iauname','ra','dec']\n",
    "data = read_parquet_data(parquet,cols)\n",
    "print(f'There are {len(data)} galaxies in GZ.')"
   ]
  },
  {
   "cell_type": "code",
   "execution_count": 19,
   "metadata": {},
   "outputs": [],
   "source": [
    "data.to_csv('gzdecals.csv',index=False)"
   ]
  },
  {
   "cell_type": "code",
   "execution_count": null,
   "metadata": {},
   "outputs": [],
   "source": []
  }
 ],
 "metadata": {
  "kernelspec": {
   "display_name": "Python 3",
   "language": "python",
   "name": "python3"
  },
  "language_info": {
   "codemirror_mode": {
    "name": "ipython",
    "version": 3
   },
   "file_extension": ".py",
   "mimetype": "text/x-python",
   "name": "python",
   "nbconvert_exporter": "python",
   "pygments_lexer": "ipython3",
   "version": "3.7.9"
  }
 },
 "nbformat": 4,
 "nbformat_minor": 4
}
