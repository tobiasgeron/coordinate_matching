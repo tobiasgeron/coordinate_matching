{
 "cells": [
  {
   "cell_type": "markdown",
   "metadata": {},
   "source": [
    "# Imports"
   ]
  },
  {
   "cell_type": "code",
   "execution_count": 1,
   "metadata": {},
   "outputs": [],
   "source": [
    "import pandas as pd\n",
    "\n",
    "from coordinate_matching import *\n",
    "import time"
   ]
  },
  {
   "cell_type": "markdown",
   "metadata": {},
   "source": [
    "# Code"
   ]
  },
  {
   "cell_type": "markdown",
   "metadata": {},
   "source": [
    "# Example 1: Artificial data"
   ]
  },
  {
   "cell_type": "code",
   "execution_count": null,
   "metadata": {},
   "outputs": [],
   "source": []
  },
  {
   "cell_type": "markdown",
   "metadata": {},
   "source": [
    "# Example 2: Real data\n",
    "\n",
    "We will match MaNGA with Galaxy Zoo DECaLS on their coordinates."
   ]
  },
  {
   "cell_type": "code",
   "execution_count": 2,
   "metadata": {},
   "outputs": [],
   "source": [
    "df_manga = pd.read_csv('data/manga_coordinates.csv')\n",
    "df_gz = pd.read_csv('data/gzdecals_coordinates.csv')"
   ]
  },
  {
   "cell_type": "code",
   "execution_count": 3,
   "metadata": {},
   "outputs": [
    {
     "data": {
      "image/png": "[encoded data removed]",
      "text/plain": [
       "<Figure size 612x360 with 1 Axes>"
      ]
     },
     "metadata": {
      "needs_background": "light"
     },
     "output_type": "display_data"
    },
    {
     "name": "stdout",
     "output_type": "stream",
     "text": [
      "It took 1.11 seconds.\n"
     ]
    }
   ],
   "source": [
    "start_time = time.time()\n",
    "\n",
    "catalog_match_plot_separation_radius([df_manga['objra'],df_manga['objdec']],\n",
    "                                     [df_gz['ra'],df_gz['dec']])\n",
    "\n",
    "\n",
    "print(f'It took {np.round(time.time() - start_time,2)} seconds.')"
   ]
  },
  {
   "cell_type": "code",
   "execution_count": 4,
   "metadata": {},
   "outputs": [],
   "source": [
    "lst = np.array([1,2,3])"
   ]
  },
  {
   "cell_type": "code",
   "execution_count": 5,
   "metadata": {},
   "outputs": [
    {
     "data": {
      "text/plain": [
       "array([1, 2, 3])"
      ]
     },
     "execution_count": 5,
     "metadata": {},
     "output_type": "execute_result"
    }
   ],
   "source": [
    "lst"
   ]
  },
  {
   "cell_type": "code",
   "execution_count": 6,
   "metadata": {},
   "outputs": [],
   "source": [
    "lst = np.array(lst)"
   ]
  },
  {
   "cell_type": "code",
   "execution_count": 7,
   "metadata": {},
   "outputs": [
    {
     "data": {
      "text/plain": [
       "array([1, 2, 3])"
      ]
     },
     "execution_count": 7,
     "metadata": {},
     "output_type": "execute_result"
    }
   ],
   "source": [
    "lst"
   ]
  },
  {
   "cell_type": "code",
   "execution_count": 8,
   "metadata": {},
   "outputs": [],
   "source": [
    "df = df_manga.merge(df_gz, left_on = 'iauname',right_on = 'iauname', how='inner')"
   ]
  },
  {
   "cell_type": "code",
   "execution_count": 9,
   "metadata": {},
   "outputs": [
    {
     "data": {
      "text/plain": [
       "3702"
      ]
     },
     "execution_count": 9,
     "metadata": {},
     "output_type": "execute_result"
    }
   ],
   "source": [
    "len(df)"
   ]
  },
  {
   "cell_type": "code",
   "execution_count": 10,
   "metadata": {},
   "outputs": [
    {
     "data": {
      "text/html": [
       "<div>\n",
       "<style scoped>\n",
       "    .dataframe tbody tr th:only-of-type {\n",
       "        vertical-align: middle;\n",
       "    }\n",
       "\n",
       "    .dataframe tbody tr th {\n",
       "        vertical-align: top;\n",
       "    }\n",
       "\n",
       "    .dataframe thead th {\n",
       "        text-align: right;\n",
       "    }\n",
       "</style>\n",
       "<table border=\"1\" class=\"dataframe\">\n",
       "  <thead>\n",
       "    <tr style=\"text-align: right;\">\n",
       "      <th></th>\n",
       "      <th>plateifu</th>\n",
       "      <th>iauname</th>\n",
       "      <th>objra</th>\n",
       "      <th>objdec</th>\n",
       "      <th>ra</th>\n",
       "      <th>dec</th>\n",
       "    </tr>\n",
       "  </thead>\n",
       "  <tbody>\n",
       "    <tr>\n",
       "      <th>0</th>\n",
       "      <td>10216-12701</td>\n",
       "      <td>J075354.29+165712.1</td>\n",
       "      <td>118.476259</td>\n",
       "      <td>16.953360</td>\n",
       "      <td>118.476259</td>\n",
       "      <td>16.953360</td>\n",
       "    </tr>\n",
       "    <tr>\n",
       "      <th>1</th>\n",
       "      <td>10216-12702</td>\n",
       "      <td>J075255.22+170100.3</td>\n",
       "      <td>118.230123</td>\n",
       "      <td>17.016803</td>\n",
       "      <td>118.230123</td>\n",
       "      <td>17.016803</td>\n",
       "    </tr>\n",
       "    <tr>\n",
       "      <th>2</th>\n",
       "      <td>10216-12703</td>\n",
       "      <td>J075429.41+174203.7</td>\n",
       "      <td>118.622597</td>\n",
       "      <td>17.701072</td>\n",
       "      <td>118.622597</td>\n",
       "      <td>17.701072</td>\n",
       "    </tr>\n",
       "    <tr>\n",
       "      <th>3</th>\n",
       "      <td>10216-12704</td>\n",
       "      <td>J075238.95+181917.7</td>\n",
       "      <td>118.162300</td>\n",
       "      <td>18.321606</td>\n",
       "      <td>118.162321</td>\n",
       "      <td>18.321595</td>\n",
       "    </tr>\n",
       "    <tr>\n",
       "      <th>4</th>\n",
       "      <td>10216-12705</td>\n",
       "      <td>J075134.62+163716.6</td>\n",
       "      <td>117.894285</td>\n",
       "      <td>16.621270</td>\n",
       "      <td>117.894285</td>\n",
       "      <td>16.621270</td>\n",
       "    </tr>\n",
       "    <tr>\n",
       "      <th>...</th>\n",
       "      <td>...</td>\n",
       "      <td>...</td>\n",
       "      <td>...</td>\n",
       "      <td>...</td>\n",
       "      <td>...</td>\n",
       "      <td>...</td>\n",
       "    </tr>\n",
       "    <tr>\n",
       "      <th>3697</th>\n",
       "      <td>9894-6102</td>\n",
       "      <td>J164658.02+194014.5</td>\n",
       "      <td>251.741870</td>\n",
       "      <td>19.670640</td>\n",
       "      <td>251.741108</td>\n",
       "      <td>19.670994</td>\n",
       "    </tr>\n",
       "    <tr>\n",
       "      <th>3698</th>\n",
       "      <td>9894-6103</td>\n",
       "      <td>J164047.71+205513.5</td>\n",
       "      <td>250.198809</td>\n",
       "      <td>20.920389</td>\n",
       "      <td>250.198809</td>\n",
       "      <td>20.920389</td>\n",
       "    </tr>\n",
       "    <tr>\n",
       "      <th>3699</th>\n",
       "      <td>9894-6104</td>\n",
       "      <td>J164337.87+214128.6</td>\n",
       "      <td>250.907826</td>\n",
       "      <td>21.691287</td>\n",
       "      <td>250.907826</td>\n",
       "      <td>21.691287</td>\n",
       "    </tr>\n",
       "    <tr>\n",
       "      <th>3700</th>\n",
       "      <td>9894-9101</td>\n",
       "      <td>J164501.88+203416.3</td>\n",
       "      <td>251.257839</td>\n",
       "      <td>20.571211</td>\n",
       "      <td>251.257839</td>\n",
       "      <td>20.571211</td>\n",
       "    </tr>\n",
       "    <tr>\n",
       "      <th>3701</th>\n",
       "      <td>9894-9102</td>\n",
       "      <td>J164625.11+194611.5</td>\n",
       "      <td>251.605155</td>\n",
       "      <td>19.769593</td>\n",
       "      <td>251.605155</td>\n",
       "      <td>19.769593</td>\n",
       "    </tr>\n",
       "  </tbody>\n",
       "</table>\n",
       "<p>3702 rows × 6 columns</p>\n",
       "</div>"
      ],
      "text/plain": [
       "         plateifu              iauname       objra     objdec          ra  \\\n",
       "0     10216-12701  J075354.29+165712.1  118.476259  16.953360  118.476259   \n",
       "1     10216-12702  J075255.22+170100.3  118.230123  17.016803  118.230123   \n",
       "2     10216-12703  J075429.41+174203.7  118.622597  17.701072  118.622597   \n",
       "3     10216-12704  J075238.95+181917.7  118.162300  18.321606  118.162321   \n",
       "4     10216-12705  J075134.62+163716.6  117.894285  16.621270  117.894285   \n",
       "...           ...                  ...         ...        ...         ...   \n",
       "3697    9894-6102  J164658.02+194014.5  251.741870  19.670640  251.741108   \n",
       "3698    9894-6103  J164047.71+205513.5  250.198809  20.920389  250.198809   \n",
       "3699    9894-6104  J164337.87+214128.6  250.907826  21.691287  250.907826   \n",
       "3700    9894-9101  J164501.88+203416.3  251.257839  20.571211  251.257839   \n",
       "3701    9894-9102  J164625.11+194611.5  251.605155  19.769593  251.605155   \n",
       "\n",
       "            dec  \n",
       "0     16.953360  \n",
       "1     17.016803  \n",
       "2     17.701072  \n",
       "3     18.321595  \n",
       "4     16.621270  \n",
       "...         ...  \n",
       "3697  19.670994  \n",
       "3698  20.920389  \n",
       "3699  21.691287  \n",
       "3700  20.571211  \n",
       "3701  19.769593  \n",
       "\n",
       "[3702 rows x 6 columns]"
      ]
     },
     "execution_count": 10,
     "metadata": {},
     "output_type": "execute_result"
    }
   ],
   "source": [
    "df"
   ]
  },
  {
   "cell_type": "code",
   "execution_count": 11,
   "metadata": {},
   "outputs": [
    {
     "data": {
      "image/png": "[encoded data removed]",
      "text/plain": [
       "<Figure size 432x288 with 1 Axes>"
      ]
     },
     "metadata": {
      "needs_background": "light"
     },
     "output_type": "display_data"
    },
    {
     "data": {
      "image/png": "[encoded data removed]",
      "text/plain": [
       "<Figure size 432x288 with 1 Axes>"
      ]
     },
     "metadata": {
      "needs_background": "light"
     },
     "output_type": "display_data"
    },
    {
     "data": {
      "text/plain": [
       "(array([1149, 1913, 2114]),)"
      ]
     },
     "execution_count": 11,
     "metadata": {},
     "output_type": "execute_result"
    }
   ],
   "source": [
    "delta_ra = (df['ra'] - df['objra'])*3600\n",
    "delta_dec = (df['dec'] - df['objdec'])*3600\n",
    "\n",
    "plt.scatter(delta_ra,delta_dec)\n",
    "plt.show()\n",
    "\n",
    "delta = np.sqrt(delta_ra**2 + delta_dec**2)\n",
    "plt.hist(delta)\n",
    "plt.show()\n",
    "\n",
    "np.where(delta > 10)"
   ]
  },
  {
   "cell_type": "code",
   "execution_count": 12,
   "metadata": {},
   "outputs": [
    {
     "data": {
      "application/vnd.jupyter.widget-view+json": {
       "model_id": "2eb09ab3b50a458fb2119c9c7566fa3e",
       "version_major": 2,
       "version_minor": 0
      },
      "text/plain": [
       "  0%|          | 0/313789 [00:00<?, ?it/s]"
      ]
     },
     "metadata": {},
     "output_type": "display_data"
    },
    {
     "data": {
      "application/vnd.jupyter.widget-view+json": {
       "model_id": "11ebd6c55325419993efa085b6dfaf34",
       "version_major": 2,
       "version_minor": 0
      },
      "text/plain": [
       "  0%|          | 0/11273 [00:00<?, ?it/s]"
      ]
     },
     "metadata": {},
     "output_type": "display_data"
    }
   ],
   "source": [
    "idx, _, _, _ = match_catalogs([df_manga['objra'],df_manga['objdec']],\n",
    "               [df_gz['ra'],df_gz['dec']],\n",
    "               limit = 2)"
   ]
  },
  {
   "cell_type": "code",
   "execution_count": 13,
   "metadata": {},
   "outputs": [
    {
     "name": "stdout",
     "output_type": "stream",
     "text": [
      "We have 3610 galaxies left.\n"
     ]
    }
   ],
   "source": [
    "df_gz = df_gz.reset_index()\n",
    "\n",
    "# Remove all where idx is np.nan, so no match found.\n",
    "ind_selection = np.where(np.isnan(idx))[0]\n",
    "df_manga = df_manga.drop(ind_selection,axis=0)\n",
    "df_manga = df_manga.reset_index(drop=True)\n",
    "idx_denan = [int(i) for i in idx if ~np.isnan(i)]\n",
    "\n",
    "# Match data to it\n",
    "df_manga['index'] = list(df_gz['index'][idx_denan])\n",
    "df_coor = df_manga.merge(df_gz,left_on='index',right_on='index', how='inner', suffixes = ('_manga','_gz'))\n",
    "df_coor = df_coor.drop(columns=['index'])\n",
    "print('We have ' + str(len(df_coor))+ ' galaxies left.') #12509"
   ]
  },
  {
   "cell_type": "code",
   "execution_count": null,
   "metadata": {},
   "outputs": [],
   "source": []
  },
  {
   "cell_type": "code",
   "execution_count": 14,
   "metadata": {},
   "outputs": [
    {
     "name": "stdout",
     "output_type": "stream",
     "text": [
      "3610\n"
     ]
    },
    {
     "data": {
      "text/plain": [
       "'\\nRD = True, R = True 3684\\nRD = True, R = False 3682\\nRD = False, R = True 3728\\n'"
      ]
     },
     "execution_count": 14,
     "metadata": {},
     "output_type": "execute_result"
    }
   ],
   "source": [
    "print(len(np.where(~np.isnan(idx))[0]) )\n",
    "\"\"\"\n",
    "RD = True, R = True 3684\n",
    "RD = True, R = False 3682\n",
    "RD = False, R = True 3728\n",
    "\"\"\""
   ]
  },
  {
   "cell_type": "code",
   "execution_count": 15,
   "metadata": {},
   "outputs": [
    {
     "data": {
      "text/html": [
       "<div>\n",
       "<style scoped>\n",
       "    .dataframe tbody tr th:only-of-type {\n",
       "        vertical-align: middle;\n",
       "    }\n",
       "\n",
       "    .dataframe tbody tr th {\n",
       "        vertical-align: top;\n",
       "    }\n",
       "\n",
       "    .dataframe thead th {\n",
       "        text-align: right;\n",
       "    }\n",
       "</style>\n",
       "<table border=\"1\" class=\"dataframe\">\n",
       "  <thead>\n",
       "    <tr style=\"text-align: right;\">\n",
       "      <th></th>\n",
       "      <th>plateifu</th>\n",
       "      <th>iauname</th>\n",
       "      <th>objra</th>\n",
       "      <th>objdec</th>\n",
       "      <th>ra</th>\n",
       "      <th>dec</th>\n",
       "    </tr>\n",
       "  </thead>\n",
       "  <tbody>\n",
       "    <tr>\n",
       "      <th>0</th>\n",
       "      <td>10216-12701</td>\n",
       "      <td>J075354.29+165712.1</td>\n",
       "      <td>118.476259</td>\n",
       "      <td>16.953360</td>\n",
       "      <td>118.476259</td>\n",
       "      <td>16.953360</td>\n",
       "    </tr>\n",
       "    <tr>\n",
       "      <th>1</th>\n",
       "      <td>10216-12702</td>\n",
       "      <td>J075255.22+170100.3</td>\n",
       "      <td>118.230123</td>\n",
       "      <td>17.016803</td>\n",
       "      <td>118.230123</td>\n",
       "      <td>17.016803</td>\n",
       "    </tr>\n",
       "    <tr>\n",
       "      <th>2</th>\n",
       "      <td>10216-12703</td>\n",
       "      <td>J075429.41+174203.7</td>\n",
       "      <td>118.622597</td>\n",
       "      <td>17.701072</td>\n",
       "      <td>118.622597</td>\n",
       "      <td>17.701072</td>\n",
       "    </tr>\n",
       "    <tr>\n",
       "      <th>3</th>\n",
       "      <td>10216-12704</td>\n",
       "      <td>J075238.95+181917.7</td>\n",
       "      <td>118.162300</td>\n",
       "      <td>18.321606</td>\n",
       "      <td>118.162321</td>\n",
       "      <td>18.321595</td>\n",
       "    </tr>\n",
       "    <tr>\n",
       "      <th>4</th>\n",
       "      <td>10216-12705</td>\n",
       "      <td>J075134.62+163716.6</td>\n",
       "      <td>117.894285</td>\n",
       "      <td>16.621270</td>\n",
       "      <td>117.894285</td>\n",
       "      <td>16.621270</td>\n",
       "    </tr>\n",
       "    <tr>\n",
       "      <th>...</th>\n",
       "      <td>...</td>\n",
       "      <td>...</td>\n",
       "      <td>...</td>\n",
       "      <td>...</td>\n",
       "      <td>...</td>\n",
       "      <td>...</td>\n",
       "    </tr>\n",
       "    <tr>\n",
       "      <th>3697</th>\n",
       "      <td>9894-6102</td>\n",
       "      <td>J164658.02+194014.5</td>\n",
       "      <td>251.741870</td>\n",
       "      <td>19.670640</td>\n",
       "      <td>251.741108</td>\n",
       "      <td>19.670994</td>\n",
       "    </tr>\n",
       "    <tr>\n",
       "      <th>3698</th>\n",
       "      <td>9894-6103</td>\n",
       "      <td>J164047.71+205513.5</td>\n",
       "      <td>250.198809</td>\n",
       "      <td>20.920389</td>\n",
       "      <td>250.198809</td>\n",
       "      <td>20.920389</td>\n",
       "    </tr>\n",
       "    <tr>\n",
       "      <th>3699</th>\n",
       "      <td>9894-6104</td>\n",
       "      <td>J164337.87+214128.6</td>\n",
       "      <td>250.907826</td>\n",
       "      <td>21.691287</td>\n",
       "      <td>250.907826</td>\n",
       "      <td>21.691287</td>\n",
       "    </tr>\n",
       "    <tr>\n",
       "      <th>3700</th>\n",
       "      <td>9894-9101</td>\n",
       "      <td>J164501.88+203416.3</td>\n",
       "      <td>251.257839</td>\n",
       "      <td>20.571211</td>\n",
       "      <td>251.257839</td>\n",
       "      <td>20.571211</td>\n",
       "    </tr>\n",
       "    <tr>\n",
       "      <th>3701</th>\n",
       "      <td>9894-9102</td>\n",
       "      <td>J164625.11+194611.5</td>\n",
       "      <td>251.605155</td>\n",
       "      <td>19.769593</td>\n",
       "      <td>251.605155</td>\n",
       "      <td>19.769593</td>\n",
       "    </tr>\n",
       "  </tbody>\n",
       "</table>\n",
       "<p>3702 rows × 6 columns</p>\n",
       "</div>"
      ],
      "text/plain": [
       "         plateifu              iauname       objra     objdec          ra  \\\n",
       "0     10216-12701  J075354.29+165712.1  118.476259  16.953360  118.476259   \n",
       "1     10216-12702  J075255.22+170100.3  118.230123  17.016803  118.230123   \n",
       "2     10216-12703  J075429.41+174203.7  118.622597  17.701072  118.622597   \n",
       "3     10216-12704  J075238.95+181917.7  118.162300  18.321606  118.162321   \n",
       "4     10216-12705  J075134.62+163716.6  117.894285  16.621270  117.894285   \n",
       "...           ...                  ...         ...        ...         ...   \n",
       "3697    9894-6102  J164658.02+194014.5  251.741870  19.670640  251.741108   \n",
       "3698    9894-6103  J164047.71+205513.5  250.198809  20.920389  250.198809   \n",
       "3699    9894-6104  J164337.87+214128.6  250.907826  21.691287  250.907826   \n",
       "3700    9894-9101  J164501.88+203416.3  251.257839  20.571211  251.257839   \n",
       "3701    9894-9102  J164625.11+194611.5  251.605155  19.769593  251.605155   \n",
       "\n",
       "            dec  \n",
       "0     16.953360  \n",
       "1     17.016803  \n",
       "2     17.701072  \n",
       "3     18.321595  \n",
       "4     16.621270  \n",
       "...         ...  \n",
       "3697  19.670994  \n",
       "3698  20.920389  \n",
       "3699  21.691287  \n",
       "3700  20.571211  \n",
       "3701  19.769593  \n",
       "\n",
       "[3702 rows x 6 columns]"
      ]
     },
     "execution_count": 15,
     "metadata": {},
     "output_type": "execute_result"
    }
   ],
   "source": [
    "df"
   ]
  },
  {
   "cell_type": "code",
   "execution_count": 16,
   "metadata": {},
   "outputs": [
    {
     "data": {
      "text/html": [
       "<div>\n",
       "<style scoped>\n",
       "    .dataframe tbody tr th:only-of-type {\n",
       "        vertical-align: middle;\n",
       "    }\n",
       "\n",
       "    .dataframe tbody tr th {\n",
       "        vertical-align: top;\n",
       "    }\n",
       "\n",
       "    .dataframe thead th {\n",
       "        text-align: right;\n",
       "    }\n",
       "</style>\n",
       "<table border=\"1\" class=\"dataframe\">\n",
       "  <thead>\n",
       "    <tr style=\"text-align: right;\">\n",
       "      <th></th>\n",
       "      <th>plateifu</th>\n",
       "      <th>iauname_manga</th>\n",
       "      <th>objra</th>\n",
       "      <th>objdec</th>\n",
       "      <th>iauname_gz</th>\n",
       "      <th>ra</th>\n",
       "      <th>dec</th>\n",
       "    </tr>\n",
       "  </thead>\n",
       "  <tbody>\n",
       "    <tr>\n",
       "      <th>0</th>\n",
       "      <td>10216-12701</td>\n",
       "      <td>J075354.29+165712.1</td>\n",
       "      <td>118.476259</td>\n",
       "      <td>16.953360</td>\n",
       "      <td>J075354.29+165712.1</td>\n",
       "      <td>118.476259</td>\n",
       "      <td>16.953360</td>\n",
       "    </tr>\n",
       "    <tr>\n",
       "      <th>1</th>\n",
       "      <td>10216-12702</td>\n",
       "      <td>J075255.22+170100.3</td>\n",
       "      <td>118.230123</td>\n",
       "      <td>17.016803</td>\n",
       "      <td>J075255.22+170100.3</td>\n",
       "      <td>118.230123</td>\n",
       "      <td>17.016803</td>\n",
       "    </tr>\n",
       "    <tr>\n",
       "      <th>2</th>\n",
       "      <td>10216-12703</td>\n",
       "      <td>J075429.41+174203.7</td>\n",
       "      <td>118.622597</td>\n",
       "      <td>17.701072</td>\n",
       "      <td>J075429.41+174203.7</td>\n",
       "      <td>118.622597</td>\n",
       "      <td>17.701072</td>\n",
       "    </tr>\n",
       "    <tr>\n",
       "      <th>3</th>\n",
       "      <td>10216-12704</td>\n",
       "      <td>J075238.95+181917.7</td>\n",
       "      <td>118.162300</td>\n",
       "      <td>18.321606</td>\n",
       "      <td>J075238.95+181917.7</td>\n",
       "      <td>118.162321</td>\n",
       "      <td>18.321595</td>\n",
       "    </tr>\n",
       "    <tr>\n",
       "      <th>4</th>\n",
       "      <td>10216-12705</td>\n",
       "      <td>J075134.62+163716.6</td>\n",
       "      <td>117.894285</td>\n",
       "      <td>16.621270</td>\n",
       "      <td>J075134.62+163716.6</td>\n",
       "      <td>117.894285</td>\n",
       "      <td>16.621270</td>\n",
       "    </tr>\n",
       "    <tr>\n",
       "      <th>...</th>\n",
       "      <td>...</td>\n",
       "      <td>...</td>\n",
       "      <td>...</td>\n",
       "      <td>...</td>\n",
       "      <td>...</td>\n",
       "      <td>...</td>\n",
       "      <td>...</td>\n",
       "    </tr>\n",
       "    <tr>\n",
       "      <th>3605</th>\n",
       "      <td>9894-6101</td>\n",
       "      <td>J164141.93+200445.9</td>\n",
       "      <td>250.424755</td>\n",
       "      <td>20.079417</td>\n",
       "      <td>J164141.93+200445.9</td>\n",
       "      <td>250.424755</td>\n",
       "      <td>20.079417</td>\n",
       "    </tr>\n",
       "    <tr>\n",
       "      <th>3606</th>\n",
       "      <td>9894-6103</td>\n",
       "      <td>J164047.71+205513.5</td>\n",
       "      <td>250.198809</td>\n",
       "      <td>20.920389</td>\n",
       "      <td>J164047.71+205513.5</td>\n",
       "      <td>250.198809</td>\n",
       "      <td>20.920389</td>\n",
       "    </tr>\n",
       "    <tr>\n",
       "      <th>3607</th>\n",
       "      <td>9894-6104</td>\n",
       "      <td>J164337.87+214128.6</td>\n",
       "      <td>250.907826</td>\n",
       "      <td>21.691287</td>\n",
       "      <td>J164337.87+214128.6</td>\n",
       "      <td>250.907826</td>\n",
       "      <td>21.691287</td>\n",
       "    </tr>\n",
       "    <tr>\n",
       "      <th>3608</th>\n",
       "      <td>9894-9101</td>\n",
       "      <td>J164501.88+203416.3</td>\n",
       "      <td>251.257839</td>\n",
       "      <td>20.571211</td>\n",
       "      <td>J164501.88+203416.3</td>\n",
       "      <td>251.257839</td>\n",
       "      <td>20.571211</td>\n",
       "    </tr>\n",
       "    <tr>\n",
       "      <th>3609</th>\n",
       "      <td>9894-9102</td>\n",
       "      <td>J164625.11+194611.5</td>\n",
       "      <td>251.605155</td>\n",
       "      <td>19.769593</td>\n",
       "      <td>J164625.11+194611.5</td>\n",
       "      <td>251.605155</td>\n",
       "      <td>19.769593</td>\n",
       "    </tr>\n",
       "  </tbody>\n",
       "</table>\n",
       "<p>3610 rows × 7 columns</p>\n",
       "</div>"
      ],
      "text/plain": [
       "         plateifu        iauname_manga       objra     objdec  \\\n",
       "0     10216-12701  J075354.29+165712.1  118.476259  16.953360   \n",
       "1     10216-12702  J075255.22+170100.3  118.230123  17.016803   \n",
       "2     10216-12703  J075429.41+174203.7  118.622597  17.701072   \n",
       "3     10216-12704  J075238.95+181917.7  118.162300  18.321606   \n",
       "4     10216-12705  J075134.62+163716.6  117.894285  16.621270   \n",
       "...           ...                  ...         ...        ...   \n",
       "3605    9894-6101  J164141.93+200445.9  250.424755  20.079417   \n",
       "3606    9894-6103  J164047.71+205513.5  250.198809  20.920389   \n",
       "3607    9894-6104  J164337.87+214128.6  250.907826  21.691287   \n",
       "3608    9894-9101  J164501.88+203416.3  251.257839  20.571211   \n",
       "3609    9894-9102  J164625.11+194611.5  251.605155  19.769593   \n",
       "\n",
       "               iauname_gz          ra        dec  \n",
       "0     J075354.29+165712.1  118.476259  16.953360  \n",
       "1     J075255.22+170100.3  118.230123  17.016803  \n",
       "2     J075429.41+174203.7  118.622597  17.701072  \n",
       "3     J075238.95+181917.7  118.162321  18.321595  \n",
       "4     J075134.62+163716.6  117.894285  16.621270  \n",
       "...                   ...         ...        ...  \n",
       "3605  J164141.93+200445.9  250.424755  20.079417  \n",
       "3606  J164047.71+205513.5  250.198809  20.920389  \n",
       "3607  J164337.87+214128.6  250.907826  21.691287  \n",
       "3608  J164501.88+203416.3  251.257839  20.571211  \n",
       "3609  J164625.11+194611.5  251.605155  19.769593  \n",
       "\n",
       "[3610 rows x 7 columns]"
      ]
     },
     "execution_count": 16,
     "metadata": {},
     "output_type": "execute_result"
    }
   ],
   "source": [
    "df_coor"
   ]
  },
  {
   "cell_type": "code",
   "execution_count": null,
   "metadata": {},
   "outputs": [],
   "source": []
  },
  {
   "cell_type": "code",
   "execution_count": 17,
   "metadata": {},
   "outputs": [],
   "source": [
    "idx_mismatch = np.where(df_coor['iauname_manga'] != df_coor['iauname_gz'])[0]"
   ]
  },
  {
   "cell_type": "code",
   "execution_count": 18,
   "metadata": {},
   "outputs": [
    {
     "data": {
      "text/plain": [
       "10"
      ]
     },
     "execution_count": 18,
     "metadata": {},
     "output_type": "execute_result"
    }
   ],
   "source": [
    "len(idx_mismatch)"
   ]
  },
  {
   "cell_type": "code",
   "execution_count": 19,
   "metadata": {},
   "outputs": [
    {
     "data": {
      "image/png": "[encoded data removed]",
      "text/plain": [
       "<Figure size 432x288 with 1 Axes>"
      ]
     },
     "metadata": {
      "needs_background": "light"
     },
     "output_type": "display_data"
    },
    {
     "data": {
      "image/png": "[encoded data removed]",
      "text/plain": [
       "<Figure size 432x288 with 1 Axes>"
      ]
     },
     "metadata": {
      "needs_background": "light"
     },
     "output_type": "display_data"
    }
   ],
   "source": [
    "delta_ra = (df_coor['ra'][idx_mismatch] - df_coor['objra'][idx_mismatch]) * 3600\n",
    "delta_dec = (df_coor['dec'][idx_mismatch] - df_coor['objdec'][idx_mismatch]) * 3600\n",
    "\n",
    "plt.scatter(delta_ra,delta_dec)\n",
    "plt.show()\n",
    "\n",
    "delta = np.sqrt(delta_ra**2 + delta_dec**2)\n",
    "plt.hist(delta)\n",
    "plt.show()"
   ]
  },
  {
   "cell_type": "code",
   "execution_count": null,
   "metadata": {},
   "outputs": [],
   "source": []
  },
  {
   "cell_type": "markdown",
   "metadata": {},
   "source": [
    "#### Looking at those in df, but not matching in df_coor"
   ]
  },
  {
   "cell_type": "code",
   "execution_count": 20,
   "metadata": {},
   "outputs": [],
   "source": [
    "idxs = []\n",
    "\n",
    "for i in range(len(df)):\n",
    "    plateifu = df['plateifu'][i]\n",
    "    if plateifu not in list(df_coor['plateifu']): #combine this with statement below\n",
    "        idxs.append(i)\n",
    "idxs = np.array(idxs)"
   ]
  },
  {
   "cell_type": "code",
   "execution_count": 23,
   "metadata": {},
   "outputs": [
    {
     "data": {
      "image/png": "[encoded data removed]",
      "text/plain": [
       "<Figure size 720x360 with 2 Axes>"
      ]
     },
     "metadata": {
      "needs_background": "light"
     },
     "output_type": "display_data"
    }
   ],
   "source": [
    "plot_coordinate_difference([df['ra'][idxs], df['dec'][idxs]], [df['objra'][idxs], df['objdec'][idxs]])"
   ]
  },
  {
   "cell_type": "code",
   "execution_count": null,
   "metadata": {},
   "outputs": [],
   "source": []
  }
 ],
 "metadata": {
  "kernelspec": {
   "display_name": "Python 3",
   "language": "python",
   "name": "python3"
  },
  "language_info": {
   "codemirror_mode": {
    "name": "ipython",
    "version": 3
   },
   "file_extension": ".py",
   "mimetype": "text/x-python",
   "name": "python",
   "nbconvert_exporter": "python",
   "pygments_lexer": "ipython3",
   "version": "3.7.9"
  }
 },
 "nbformat": 4,
 "nbformat_minor": 4
}
